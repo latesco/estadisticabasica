{
 "cells": [
  {
   "cell_type": "markdown",
   "id": "f5ae6dd5",
   "metadata": {},
   "source": [
    "# Regresión Lineal Simple\n",
    "## Ejemplo"
   ]
  },
  {
   "cell_type": "code",
   "execution_count": 1,
   "id": "4be338e2",
   "metadata": {},
   "outputs": [],
   "source": [
    "import math\n",
    "import statistics as stats\n",
    "import matplotlib.pyplot as plt\n",
    "from matplotlib import collections as mc\n",
    "from tabulate import tabulate"
   ]
  },
  {
   "cell_type": "code",
   "execution_count": 2,
   "id": "f73fad5b",
   "metadata": {},
   "outputs": [],
   "source": [
    "plt.style.use('seaborn-v0_8-whitegrid')\n",
    "plt.rcParams['text.usetex'] = True\n",
    "plt.rcParams['figure.figsize'] = (10, 6)"
   ]
  },
  {
   "cell_type": "markdown",
   "id": "870b119a",
   "metadata": {},
   "source": [
    "### Datos de calificaciones promedio (CP) y de Salario inicial (\\$)"
   ]
  },
  {
   "cell_type": "markdown",
   "id": "b7879cf1",
   "metadata": {},
   "source": [
    "El siguiente ejemplo, simplemente consiste, simplemente, en asociar los salarios iniciales (variable respuesta), de una serie de estudiantes, con sus calificaciones promedio, que aparece denotada como <i>CP</i> "
   ]
  },
  {
   "cell_type": "code",
   "execution_count": 3,
   "id": "b0230da3",
   "metadata": {},
   "outputs": [],
   "source": [
    "CP = [2.95, 3.20, 3.40, 3.60, 3.20, 2.85, 3.10, 2.85,\n",
    "                3.05, 2.70, 2.75, 3.10, 3.15, 2.95, 2.75]\n",
    "\n",
    "salario_inicial = [18.5, 20.0, 21.1, 22.4, 21.2, 15.0, 18.0,\n",
    "                            18.8, 15.7, 14.4, 15.5, 17.2, 19.0,17.2, 16.8]"
   ]
  },
  {
   "cell_type": "code",
   "execution_count": 4,
   "id": "e43bac7e",
   "metadata": {},
   "outputs": [
    {
     "data": {
      "image/png": "[encoded data removed]",
      "text/plain": [
       "<Figure size 1000x600 with 1 Axes>"
      ]
     },
     "metadata": {},
     "output_type": "display_data"
    }
   ],
   "source": [
    "fig, ax = plt.subplots()\n",
    "\n",
    "ax.plot(CP, salario_inicial,\n",
    "        marker='o',\n",
    "        color='#006666',\n",
    "        markeredgecolor='#000000',\n",
    "        alpha=0.5,\n",
    "       linestyle='None',\n",
    "       markersize=15)\n",
    "plt.xlabel('X')\n",
    "plt.ylabel('Y')\n",
    "plt.title('Dispersion Y vs X')\n",
    "plt.show()"
   ]
  },
  {
   "cell_type": "markdown",
   "id": "1c4d1307",
   "metadata": {},
   "source": [
    "Solo se requiere obtener los estimadores de regresion de los parámetros $\\beta_0\\;y\\;\\;\\beta_1$, dichos estimadores aparecen denotados por $b_0\\;\\,y\\;\\;b_1$ respectivamente."
   ]
  },
  {
   "cell_type": "markdown",
   "id": "24e61f10",
   "metadata": {},
   "source": [
    "Se obtienen mediante: \n",
    "\n",
    "$$b_1=\\frac{\\sum_{i=1}^{{n}}x_i y_i - \\frac{\\left (\\begin{array}{c}\\sum_{i=1}^n x_i\\end{array} \\right ) \\left ( \\begin{array}{c}\\sum_{i=1}^n y_i \\end{array} \\right )}{{n}}}{{\\sum_{i=1}^n x_i^2- \\frac{(\\sum_{i=1}^n x_i)^2}{{n}}}}=\\frac{\\sum_{i=1}^n (x_i - \\bar{x})(y_i-\\bar{y})}{{\\sum_{i=1}^n (x_i- \\bar{x})^2}}$$\n",
    "\n",
    "$$b_0=\\bar{y} - b_1\\bar{x}$$"
   ]
  },
  {
   "cell_type": "markdown",
   "id": "59f04f5d",
   "metadata": {},
   "source": [
    "Las fórmulas requieren una serie de sumatorias para ambas variables, un modo de hacerlo es usando listas de  <i>Python</i>, y usando un diccionario como contenedor.\n",
    "\n",
    "Se trata entonces de disponer de los términos de modo que satisfagan cada una de las fórmulas. A partir de este punto, por comodidad, llamaré <i>x</i> a la variable independiente <i>CP</i>; y <i>salario_inicial</i>, pasará a llamarse <i>y</i>"
   ]
  },
  {
   "cell_type": "code",
   "execution_count": 5,
   "id": "cd999c5c",
   "metadata": {},
   "outputs": [],
   "source": [
    "datos = {'x': CP,\n",
    "         'y':salario_inicial,\n",
    "        'xy':[x*y for x, y in zip(CP, salario_inicial)],\n",
    "        'x2':[x**2 for x in CP],\n",
    "        'y2':[y**2 for y in salario_inicial]}"
   ]
  },
  {
   "cell_type": "code",
   "execution_count": 6,
   "id": "5e665587",
   "metadata": {},
   "outputs": [],
   "source": [
    "sum_x = sum(datos['x'])\n",
    "sum_y = sum(datos['y'])\n",
    "sum_xy = sum(datos['xy'])\n",
    "sum_x2 = sum(datos['x2'])\n",
    "sum_y2 = sum(datos['y2'])"
   ]
  },
  {
   "cell_type": "code",
   "execution_count": 7,
   "id": "9636e891",
   "metadata": {},
   "outputs": [
    {
     "data": {
      "text/plain": [
       "8.118510158013954"
      ]
     },
     "execution_count": 7,
     "metadata": {},
     "output_type": "execute_result"
    }
   ],
   "source": [
    "b1 = (sum_xy - (sum_x)*(sum_y) / 15) / (sum_x2 - sum_x**2/15)\n",
    "b1"
   ]
  },
  {
   "cell_type": "code",
   "execution_count": 8,
   "id": "3a7d7f10",
   "metadata": {},
   "outputs": [
    {
     "data": {
      "text/plain": [
       "-6.626937547029094"
      ]
     },
     "execution_count": 8,
     "metadata": {},
     "output_type": "execute_result"
    }
   ],
   "source": [
    "b0 = sum_y / 15 - b1 * sum_x / 15\n",
    "b0"
   ]
  },
  {
   "cell_type": "markdown",
   "id": "afc41ae3",
   "metadata": {},
   "source": [
    "El cálculo de arriba, simplemente, hace lo siguiente:\n",
    "\n",
    "$$b_1 = \\frac{830.425 - \\frac{(45.6)(270.8)}{{15}}}{{139.51 - \\frac{(45.6)^2}{{15}}}}=8.12$$\n",
    "\n",
    "y\n",
    "\n",
    "$$b_0= \\frac{270.8}{{15}} - (8.12) \\frac{45.6}{{15}} = -6.63$$"
   ]
  },
  {
   "cell_type": "markdown",
   "id": "d3df5ad6",
   "metadata": {},
   "source": [
    "### Estimaciones"
   ]
  },
  {
   "cell_type": "markdown",
   "id": "0b0dd00d",
   "metadata": {},
   "source": [
    "El modelo estimado de regresión es:\n",
    "\n",
    "\n",
    "$$\\hat{y}= -6.63+ 8.12  \\cdot x$$\n",
    "\n",
    "\n",
    "o, utilizando la notación original de estas variables:\n",
    "\n",
    "\n",
    "$$\\widehat{salario\\_inicial}=-6.63 + 8.12 \\cdot CP$$\n",
    "\n",
    "\n",
    "Usando esta fórmula, se obtienen las estimaciones de $\\hat{y}$"
   ]
  },
  {
   "cell_type": "code",
   "execution_count": 9,
   "id": "4449754d",
   "metadata": {},
   "outputs": [],
   "source": [
    "salario_estimado = [b0 + b1 * i for i in CP]\n",
    "\n",
    "salario_estimado = [round(est, 2) for est in salario_estimado]"
   ]
  },
  {
   "cell_type": "markdown",
   "id": "f809c146",
   "metadata": {},
   "source": [
    "### Residuos"
   ]
  },
  {
   "cell_type": "markdown",
   "id": "41deb266",
   "metadata": {},
   "source": [
    "Para obtener los residuos, se sustraen las estimaciones de las observaciones de $Y$\n",
    "\n",
    "\n",
    "$$y_i - \\hat{y_i}$$"
   ]
  },
  {
   "cell_type": "code",
   "execution_count": 10,
   "id": "2728f86f",
   "metadata": {},
   "outputs": [],
   "source": [
    "salario_promedio = stats.mean(salario_inicial)\n",
    "cp_promedio = stats.mean(CP)"
   ]
  },
  {
   "cell_type": "code",
   "execution_count": 11,
   "id": "715fd5e1",
   "metadata": {},
   "outputs": [],
   "source": [
    "residuos = [round(s1 - s2, 2) for s1, s2 in \n",
    "            zip(salario_inicial, salario_estimado)]"
   ]
  },
  {
   "cell_type": "code",
   "execution_count": 12,
   "id": "d79a54a8",
   "metadata": {},
   "outputs": [],
   "source": [
    "cuadrado_residuos = [res**2 for res in residuos]"
   ]
  },
  {
   "cell_type": "code",
   "execution_count": 13,
   "id": "fc7122f5",
   "metadata": {},
   "outputs": [],
   "source": [
    "est_res ={'y_estim': salario_estimado,\n",
    "          'residuos': [round(i - j, 4) for i, j in zip(salario_inicial, salario_estimado)],\n",
    "          'residuos2':[round((i - j)**2, 4) for i, j in zip(salario_inicial, salario_estimado)],\n",
    "          'dif_stc':[round((i - salario_promedio)**2, 4) for i in salario_inicial],\n",
    "          'dif_scr': [round((i - salario_promedio)**2, 4) for i in salario_estimado]\n",
    "         }"
   ]
  },
  {
   "cell_type": "markdown",
   "id": "49ab31d3",
   "metadata": {},
   "source": [
    "Para poner todos los datos en una tabla:"
   ]
  },
  {
   "cell_type": "code",
   "execution_count": 14,
   "id": "fb678204",
   "metadata": {},
   "outputs": [
    {
     "name": "stdout",
     "output_type": "stream",
     "text": [
      "+------+------+--------+---------+--------+-----------+------------+-------------+-----------+-----------+\n",
      "|    x |    y |     xy |      x2 |     y2 |   y_estim |   residuos |   residuos2 |   dif_stc |   dif_scr |\n",
      "+======+======+========+=========+========+===========+============+=============+===========+===========+\n",
      "| 2.95 | 18.5 | 54.575 |  8.7025 | 342.25 |     17.32 |       1.18 |      1.3924 |    0.1995 |    0.5378 |\n",
      "+------+------+--------+---------+--------+-----------+------------+-------------+-----------+-----------+\n",
      "| 3.2  | 20   | 64     | 10.24   | 400    |     19.35 |       0.65 |      0.4225 |    3.7895 |    1.6813 |\n",
      "+------+------+--------+---------+--------+-----------+------------+-------------+-----------+-----------+\n",
      "| 3.4  | 21.1 | 71.74  | 11.56   | 445.21 |     20.98 |       0.12 |      0.0144 |    9.2822 |    8.5654 |\n",
      "+------+------+--------+---------+--------+-----------+------------+-------------+-----------+-----------+\n",
      "| 3.6  | 22.4 | 80.64  | 12.96   | 501.76 |     22.6  |      -0.2  |      0.04   |   18.8935 |   20.6722 |\n",
      "+------+------+--------+---------+--------+-----------+------------+-------------+-----------+-----------+\n",
      "| 3.2  | 21.2 | 67.84  | 10.24   | 449.44 |     19.35 |       1.85 |      3.4225 |    9.9015 |    1.6813 |\n",
      "+------+------+--------+---------+--------+-----------+------------+-------------+-----------+-----------+\n",
      "| 2.85 | 15   | 42.75  |  8.1225 | 225    |     16.51 |      -1.51 |      2.2801 |    9.3228 |    2.3819 |\n",
      "+------+------+--------+---------+--------+-----------+------------+-------------+-----------+-----------+\n",
      "| 3.1  | 18   | 55.8   |  9.61   | 324    |     18.54 |      -0.54 |      0.2916 |    0.0028 |    0.2368 |\n",
      "+------+------+--------+---------+--------+-----------+------------+-------------+-----------+-----------+\n",
      "| 2.85 | 18.8 | 53.58  |  8.1225 | 353.44 |     16.51 |       2.29 |      5.2441 |    0.5575 |    2.3819 |\n",
      "+------+------+--------+---------+--------+-----------+------------+-------------+-----------+-----------+\n",
      "| 3.05 | 15.7 | 47.885 |  9.3025 | 246.49 |     18.13 |      -2.43 |      5.9049 |    5.5382 |    0.0059 |\n",
      "+------+------+--------+---------+--------+-----------+------------+-------------+-----------+-----------+\n",
      "| 2.7  | 14.4 | 38.88  |  7.29   | 207.36 |     15.29 |      -0.89 |      0.7921 |   13.3468 |    7.636  |\n",
      "+------+------+--------+---------+--------+-----------+------------+-------------+-----------+-----------+\n",
      "| 2.75 | 15.5 | 42.625 |  7.5625 | 240.25 |     15.7  |      -0.2  |      0.04   |    6.5195 |    5.5382 |\n",
      "+------+------+--------+---------+--------+-----------+------------+-------------+-----------+-----------+\n",
      "| 3.1  | 17.2 | 53.32  |  9.61   | 295.84 |     18.54 |      -1.34 |      1.7956 |    0.7282 |    0.2368 |\n",
      "+------+------+--------+---------+--------+-----------+------------+-------------+-----------+-----------+\n",
      "| 3.15 | 19   | 59.85  |  9.9225 | 361    |     18.95 |       0.05 |      0.0025 |    0.8962 |    0.804  |\n",
      "+------+------+--------+---------+--------+-----------+------------+-------------+-----------+-----------+\n",
      "| 2.95 | 17.2 | 50.74  |  8.7025 | 295.84 |     17.32 |      -0.12 |      0.0144 |    0.7282 |    0.5378 |\n",
      "+------+------+--------+---------+--------+-----------+------------+-------------+-----------+-----------+\n",
      "| 2.75 | 16.8 | 46.2   |  7.5625 | 282.24 |     15.7  |       1.1  |      1.21   |    1.5708 |    5.5382 |\n",
      "+------+------+--------+---------+--------+-----------+------------+-------------+-----------+-----------+\n"
     ]
    }
   ],
   "source": [
    "datos2 = dict(**datos, **est_res)\n",
    "print(tabulate(datos2, headers='keys', tablefmt='grid'))"
   ]
  },
  {
   "cell_type": "markdown",
   "id": "0a9dedf2",
   "metadata": {},
   "source": [
    "Los residuos son las diferencias entre las observaciones (salarios iniciales)  y sus valores estimados; en otras palabras, cada valor residual es la distancia vertical existente entre la observación y el punto sobre la recta estimada de regresión correspondiente."
   ]
  },
  {
   "cell_type": "code",
   "execution_count": 15,
   "id": "a3696611",
   "metadata": {},
   "outputs": [],
   "source": [
    "eq = (r\"$\\widehat{salario\\_inicial}=-6.63+8.12CP$\")"
   ]
  },
  {
   "cell_type": "code",
   "execution_count": 16,
   "id": "a79dbccf",
   "metadata": {},
   "outputs": [],
   "source": [
    "l0 = list(zip(CP, salario_inicial))\n",
    "l0 = sorted(l0, key=lambda x: x[0])\n",
    "\n",
    "l1 = list(zip(CP, salario_estimado))\n",
    "l1 = sorted(l1, key=lambda x: x[0])\n",
    "lines = [[e, f] for e, f in zip(l0, l1)]"
   ]
  },
  {
   "cell_type": "code",
   "execution_count": 17,
   "id": "459b26f5",
   "metadata": {},
   "outputs": [
    {
     "data": {
      "image/png": "[encoded data removed]",
      "text/plain": [
       "<Figure size 1000x600 with 1 Axes>"
      ]
     },
     "metadata": {},
     "output_type": "display_data"
    }
   ],
   "source": [
    "lc = mc.LineCollection(lines, colors='#000000', linewidths=0.5)\n",
    "\n",
    "fig, ax = plt.subplots()\n",
    "\n",
    "ax.scatter(x=CP, y=salario_inicial, s= 160, color='#006666', #'#ff8000',\n",
    "           alpha=0.5,\n",
    "          edgecolor='#000000')\n",
    "ax.plot(CP, salario_estimado, color='#000000',\n",
    "        linewidth=1.0)\n",
    "\n",
    "plt.title('Residuos como distancias verticales desde\\nla ecuación estimada de regresion')\n",
    "ax.annotate(eq, (3.3, 20), xytext=(0, -50),\n",
    "           textcoords='offset points',\n",
    "           fontsize = 15,\n",
    "           arrowprops=dict(\n",
    "           arrowstyle='fancy',\n",
    "           color='#000000',\n",
    "           connectionstyle='arc3, rad=0.3'),)\n",
    "\n",
    "ax.add_collection(lc)\n",
    "ax.autoscale()"
   ]
  },
  {
   "cell_type": "markdown",
   "id": "8da51448",
   "metadata": {},
   "source": [
    "### Coeficiente de determinación"
   ]
  },
  {
   "cell_type": "markdown",
   "id": "47011aa2",
   "metadata": {},
   "source": [
    "Es el porcentaje de la variabilidad muestral de $Y$ que es explicada por $X$.\n",
    "\n",
    "Se obtiene mediante: $R^2= \\frac{SCR}{{STC}}= 1 - \\frac{SCE}{{SCT}}$"
   ]
  },
  {
   "cell_type": "markdown",
   "id": "79ea736c",
   "metadata": {},
   "source": [
    "$SCR=\\sum(\\hat{y_i} - \\bar{y_i})^2$\n",
    "\n",
    "$SCE=\\sum(y_i - \\hat{y_i})^2=\\sum \\epsilon_i^2$\n",
    "\n",
    "$SCT=\\sum(y_i-\\bar{y_i})^2$"
   ]
  },
  {
   "cell_type": "code",
   "execution_count": 18,
   "id": "fbf57172",
   "metadata": {},
   "outputs": [],
   "source": [
    "SCE= sum(est_res['residuos2'])\n",
    "SCR= sum(est_res['dif_scr'])\n",
    "STC=sum(est_res['dif_stc'])"
   ]
  },
  {
   "cell_type": "code",
   "execution_count": 19,
   "id": "baa1ebf9",
   "metadata": {},
   "outputs": [
    {
     "name": "stdout",
     "output_type": "stream",
     "text": [
      "El valor del coeficiente de determinacion es: 71.9%\n"
     ]
    }
   ],
   "source": [
    "R2 = SCR/STC\n",
    "\n",
    "print('El valor del coeficiente de determinacion es: {}%'.format(round(R2*100, 2)))"
   ]
  },
  {
   "cell_type": "markdown",
   "id": "f5e3fe66",
   "metadata": {},
   "source": [
    "### Error Típico de la Regresión\n",
    "#### Error cuadrado medio (ECM)"
   ]
  },
  {
   "cell_type": "markdown",
   "id": "ec7007f7",
   "metadata": {},
   "source": [
    "\n",
    "$CME=\\frac{\\sum e_i^2}{{n-2}}=s^2$\n",
    "\n",
    "$s=\\sqrt{CME}$"
   ]
  },
  {
   "cell_type": "code",
   "execution_count": 20,
   "id": "25421983",
   "metadata": {},
   "outputs": [],
   "source": [
    "n = len(salario_inicial)\n",
    "CME = SCE/(n - 2)\n",
    "s =math.sqrt(CME)"
   ]
  },
  {
   "cell_type": "code",
   "execution_count": 21,
   "id": "1747c26c",
   "metadata": {},
   "outputs": [
    {
     "data": {
      "text/plain": [
       "1.7590076923076927"
      ]
     },
     "execution_count": 21,
     "metadata": {},
     "output_type": "execute_result"
    }
   ],
   "source": [
    "\n",
    "CME= SCE/(n -  2)\n",
    "CME"
   ]
  },
  {
   "cell_type": "code",
   "execution_count": 22,
   "id": "8d43e430",
   "metadata": {},
   "outputs": [
    {
     "data": {
      "text/plain": [
       "1.3262758733791746"
      ]
     },
     "execution_count": 22,
     "metadata": {},
     "output_type": "execute_result"
    }
   ],
   "source": [
    "s = math.sqrt(CME)\n",
    "s"
   ]
  },
  {
   "cell_type": "markdown",
   "id": "0c4ebf93",
   "metadata": {},
   "source": [
    "### Gráfica de  Residuos Estandarizados."
   ]
  },
  {
   "cell_type": "markdown",
   "id": "9d24bd78",
   "metadata": {},
   "source": [
    "De el supuesto, según el cual,  $E(\\epsilon_i|X_i)=0$, se desprende que los errores deben debe ser independientes de la variable independiente $x$, por lo que un gráfico de dispersión de los errores y la variable de $x$, no debería presentar patrón alguno.\n",
    "\n",
    "Se requieren los residuos estandarizados: $\\epsilon_{is}=\\frac{\\epsilon_i}{{s}}$"
   ]
  },
  {
   "cell_type": "code",
   "execution_count": 23,
   "id": "dc03abea",
   "metadata": {},
   "outputs": [],
   "source": [
    "res_estandar = [i/s for i in residuos]"
   ]
  },
  {
   "cell_type": "code",
   "execution_count": 24,
   "id": "b9cc124f",
   "metadata": {},
   "outputs": [
    {
     "data": {
      "image/png": "[encoded data removed]",
      "text/plain": [
       "<Figure size 1000x600 with 1 Axes>"
      ]
     },
     "metadata": {},
     "output_type": "display_data"
    }
   ],
   "source": [
    "fig, ax = plt.subplots()\n",
    "ax.scatter(x=CP, y=res_estandar,\n",
    "           color='#ff1a1a',\n",
    "           edgecolor='#000000',\n",
    "           alpha=0.5,\n",
    "           s=150)\n",
    "plt.axhline(y=0, color='#8a8a5c', linestyle='--')\n",
    "plt.xlabel('X')\n",
    "plt.ylabel('Residuos')\n",
    "plt.title('Dispersion de Residuos\\nRespecto de la Variable Predictora (X)')\n",
    "plt.show()"
   ]
  },
  {
   "cell_type": "markdown",
   "id": "d029bffd",
   "metadata": {},
   "source": [
    "A simple vista los residuos no parecen presentar ninguna tendencia en particular; además el hecho de que sus valores se mantengan en un intervalo $(2, -2)$, es auspicioso, en el sentido de que no pareciera infringirse el supuesto de no existencia de valores extremos. Tampoco ofrece evidencias visuales suficientes para sospechar crecimiento o decrecimiento de la varianza."
   ]
  },
  {
   "cell_type": "markdown",
   "id": "402be36d",
   "metadata": {},
   "source": [
    "### Inferencia Estadística en el modelo lineal simple"
   ]
  },
  {
   "cell_type": "markdown",
   "id": "123d8e7d",
   "metadata": {},
   "source": [
    "Si los supuestos de la estimación según mínimos cuadrados se cumplen, cabe preguntarse si, más allá de la muestra de datos que se tiene a disposición, esa relación líneal se cumple; para lo cual será necesario que el párametro $\\beta_1$ sea distinto de cero; de otro modo no se podría afirmar que exista relación lineal alguna entre los <i>salarios iniciales</i> y las <i>calificaciones promedio</i>."
   ]
  },
  {
   "cell_type": "markdown",
   "id": "daaa6d68",
   "metadata": {},
   "source": [
    "La siguiente hipótesis, expresa precisamente eso:\n",
    "\n",
    "$$H_0:\\beta_1=0$$\n",
    "\n",
    "$$H_1:\\beta_1 \\neq 0$$\n",
    "\n"
   ]
  },
  {
   "cell_type": "markdown",
   "id": "84bb3b62",
   "metadata": {},
   "source": [
    "Y como estadístico de prueba:\n",
    "\n",
    "$$t=\\frac{b_1}{{s(B_1)}}$$\n",
    "\n",
    "<p style=\"text-align:center\">Y</p>\n",
    "\n",
    "$$s(B_1)=\\frac{s^2}{{\\sum_{i=1}^n (x_i-\\bar{x})^2}}$$"
   ]
  },
  {
   "cell_type": "code",
   "execution_count": 25,
   "id": "6fd4abdd",
   "metadata": {},
   "outputs": [],
   "source": [
    "dif_cuadrados_x = [round((i - cp_promedio)**2, 4) for i in CP]\n",
    "suma_dif_cuadrados_x= sum(dif_cuadrados_x)"
   ]
  },
  {
   "cell_type": "code",
   "execution_count": 26,
   "id": "e9279bbc",
   "metadata": {},
   "outputs": [
    {
     "data": {
      "text/plain": [
       "1.4090195157742174"
      ]
     },
     "execution_count": 26,
     "metadata": {},
     "output_type": "execute_result"
    }
   ],
   "source": [
    "s2_b1 = CME/suma_dif_cuadrados_x\n",
    "s_b1 = math.sqrt(s2_b1)\n",
    "s_b1"
   ]
  },
  {
   "cell_type": "code",
   "execution_count": 27,
   "id": "116fb470",
   "metadata": {},
   "outputs": [
    {
     "data": {
      "text/plain": [
       "5.761815267372686"
      ]
     },
     "execution_count": 27,
     "metadata": {},
     "output_type": "execute_result"
    }
   ],
   "source": [
    "t= b1/s_b1\n",
    "t"
   ]
  },
  {
   "cell_type": "markdown",
   "id": "0b25326c",
   "metadata": {},
   "source": [
    "El resultado obtenido para <i>t</i> puede compararse con una tabla <i>t de Student</i> en el renglon correspodiente a $n - k - 1$ grados de libertad. Debe ocurrir que para un valor <i>t</i>, teórico de una tabla <i>t-Student</i> con 13 grados de libertad y $1 - \\alpha/2$ de significación, el valor <i>t</i> resultante de la muestra es superior, en valor absoluto, al valor teórico:\n",
    "\n",
    "$$\\mid t_{muestral} \\mid  \\gt  \\mid t_{1-\\alpha/2, n-k-1} \\mid$$\n",
    "\n",
    "\n",
    "En <i>Python</i>, el modulo  <i>scipy</i>, facilita hallar un <i>p-valor</i>"
   ]
  },
  {
   "cell_type": "code",
   "execution_count": 28,
   "id": "0d9ef0b0",
   "metadata": {},
   "outputs": [],
   "source": [
    "from scipy.stats import t"
   ]
  },
  {
   "cell_type": "code",
   "execution_count": 29,
   "id": "e8562814",
   "metadata": {},
   "outputs": [
    {
     "data": {
      "text/plain": [
       "0.0012531431616342736"
      ]
     },
     "execution_count": 29,
     "metadata": {},
     "output_type": "execute_result"
    }
   ],
   "source": [
    "p_value = 1 - t.cdf(4.1, 13)\n",
    "2 * p_value"
   ]
  },
  {
   "cell_type": "code",
   "execution_count": 30,
   "id": "aeb9d9fc",
   "metadata": {},
   "outputs": [
    {
     "data": {
      "text/plain": [
       "True"
      ]
     },
     "execution_count": 30,
     "metadata": {},
     "output_type": "execute_result"
    }
   ],
   "source": [
    "0.5/100 > 2 * p_value"
   ]
  },
  {
   "cell_type": "markdown",
   "id": "8be9eefc",
   "metadata": {},
   "source": [
    "Este <i>p-valor</i> nos indica, que si la hipótesis nula fuera verdadera ($\\beta_1=0$), sería muy poco probable que se obtuviera una muestra de salarios y calificaciones como la presente; es decir, que una probabilidad tan baja no es evidencia suficiente de que el valor del coeficiente pueda ser cero: se rechaza la hipótesis nula, incluso a un nivel de confianza del 99%"
   ]
  },
  {
   "cell_type": "markdown",
   "id": "f9301b53",
   "metadata": {},
   "source": [
    "El contraste para la significancia del coeficiente de regresión, puede hacerse mediante los estadísticos <i>t</i> (muestral vs teórico) o con el <i>p-valor</i>, da lo mismo, pero es más frecuente el uso del <i>p-valor</i>, y muchos <i>softwares</i> lo aportan.\n",
    "\n",
    "Con lo cual se puede inferir que el valor estimado de $\\beta_1$, resulta significativo para un 95% e incluso a un 99% de nivel de confianza; pues $2 * p_value \\lt 0.025$, o, lo que es lo mismo, el valor <i>t estimado</i> ($t_e$) es superior al valor <i>t-teórico</i> ($t_{(0.025, 13)}$):\n",
    "\n",
    "$$t_e=\\frac{b_1}{{s(B_1)}}$$\n",
    "\n",
    "$$|t_e| \\gt t_{(0.025, 13)}$$"
   ]
  },
  {
   "cell_type": "code",
   "execution_count": 31,
   "id": "4371535b",
   "metadata": {},
   "outputs": [
    {
     "data": {
      "text/plain": [
       "2.1603686564610127"
      ]
     },
     "execution_count": 31,
     "metadata": {},
     "output_type": "execute_result"
    }
   ],
   "source": [
    "## Valor t, para significación de 5%, contraste de dos colas y 13 grados de libertad\n",
    "alpha = 0.05\n",
    "\n",
    "t_c = abs(t.ppf(1-alpha/2, 13))\n",
    "t_c"
   ]
  },
  {
   "cell_type": "code",
   "execution_count": 32,
   "id": "ce9d38d5",
   "metadata": {},
   "outputs": [
    {
     "data": {
      "text/plain": [
       "True"
      ]
     },
     "execution_count": 32,
     "metadata": {},
     "output_type": "execute_result"
    }
   ],
   "source": [
    "# El valor t muestral, estimado arriba, nivel de confianza 95%\n",
    "\n",
    "te = 5.76 # estimado arriba\n",
    "\n",
    "# comparación\n",
    "\n",
    "te >  abs(t.ppf(1 - alpha/2, 13))"
   ]
  },
  {
   "cell_type": "code",
   "execution_count": 33,
   "id": "846207df",
   "metadata": {},
   "outputs": [
    {
     "data": {
      "text/plain": [
       "True"
      ]
     },
     "execution_count": 33,
     "metadata": {},
     "output_type": "execute_result"
    }
   ],
   "source": [
    "# El valor t para 99% de confianza (contraste de dos colas) y 13 grados de libertad\n",
    "\n",
    "alpha=0.01\n",
    "\n",
    "te = 5.76 # estimado arriba\n",
    "\n",
    "te > abs(t.ppf(1-alpha/2, 13))"
   ]
  },
  {
   "cell_type": "markdown",
   "id": "7540ded6",
   "metadata": {},
   "source": [
    "Sólo para mostrar el resultado graficamente:"
   ]
  },
  {
   "cell_type": "code",
   "execution_count": 34,
   "id": "c7f7900c",
   "metadata": {},
   "outputs": [],
   "source": [
    "import numpy as np"
   ]
  },
  {
   "cell_type": "code",
   "execution_count": 35,
   "id": "11f5bc78",
   "metadata": {},
   "outputs": [],
   "source": [
    "x = np.linspace(-6, 6, 1000)\n",
    "y = t.pdf(x, 13)"
   ]
  },
  {
   "cell_type": "code",
   "execution_count": 36,
   "id": "b09c7235",
   "metadata": {},
   "outputs": [],
   "source": [
    "tt = (r\"$t_{0.025, 13}=2.16$\")\n",
    "tp = (r\"$t_{muestral}=5.76$\")"
   ]
  },
  {
   "cell_type": "code",
   "execution_count": 37,
   "id": "01b66dae",
   "metadata": {},
   "outputs": [
    {
     "data": {
      "image/png": "[encoded data removed]",
      "text/plain": [
       "<Figure size 1000x600 with 1 Axes>"
      ]
     },
     "metadata": {},
     "output_type": "display_data"
    }
   ],
   "source": [
    "fig, ax = plt.subplots()\n",
    "ax.plot(x, y, 'k-')\n",
    "ax.fill_between(x, y, where = (x <= -2.16) | (x > 2.16),\n",
    "               color = 'orange')\n",
    "ax.annotate(tt, (2.16, 0), xytext=(0, -50),\n",
    "            textcoords='offset points',\n",
    "            fontsize=15,\n",
    "            arrowprops=dict(\n",
    "            arrowstyle='fancy',\n",
    "            color='#000000',\n",
    "            connectionstyle='arc3, rad=0.3')\n",
    "\n",
    ")\n",
    "\n",
    "ax.annotate(tp, (5.76, 0), xytext=(0, -50),\n",
    "            textcoords='offset points',\n",
    "            fontsize=15,\n",
    "            arrowprops=dict(\n",
    "            arrowstyle='fancy',\n",
    "            color='#000000',\n",
    "            connectionstyle='arc3, rad=0.3')\n",
    "\n",
    ")\n",
    "ax.annotate(\"Región Crítica\", (3, 0.007), xytext=(0, 50),\n",
    "            textcoords='offset points',\n",
    "            fontsize=15,\n",
    "            arrowprops=dict(\n",
    "            arrowstyle='fancy',\n",
    "            color='#000000',\n",
    "            #connectionstyle='arc3, rad=0.3'\n",
    "            )\n",
    "\n",
    ")\n",
    "plt.title('Curva de Valores t con \\nRegión Crítica')\n",
    "plt.show()"
   ]
  },
  {
   "cell_type": "markdown",
   "id": "4be9f031",
   "metadata": {},
   "source": [
    "### Intervalo de Confianza para $\\hat{\\beta_1}$"
   ]
  },
  {
   "cell_type": "markdown",
   "id": "32b03b36",
   "metadata": {},
   "source": [
    "Un intervalo de confianza para el estimador de $\\beta_1$, tiene la siguente forma:\n",
    "\n",
    "$$\\hat{\\beta_1} \\pm t_{1 - \\alpha/2, n - 2}s(\\hat{\\beta_1})$$\n",
    "\n",
    "Si $\\alpha=0.05$, el intervalo será del $95\\%$ de confianza."
   ]
  },
  {
   "cell_type": "code",
   "execution_count": 38,
   "id": "83d9e856",
   "metadata": {},
   "outputs": [
    {
     "data": {
      "text/plain": [
       "(5.074508559793461, 11.162511756234448)"
      ]
     },
     "execution_count": 38,
     "metadata": {},
     "output_type": "execute_result"
    }
   ],
   "source": [
    "# t ~ 2.160\n",
    "(b1 - t_c * s_b1 , b1 + t_c * s_b1 ) # Intervalo de confianza"
   ]
  },
  {
   "cell_type": "markdown",
   "id": "b16ada72",
   "metadata": {},
   "source": [
    "Sin embargo, todo este procedimiento puede abreviarse sustancialmente con el uso de una aplicación; por ejemplo, con el modulo <i>statsmodels</i>, que no esta contenido en la instalación de <i>Python</i> por lo que es necesario instalarlo con <i>pip</i> o <i>conda</i>, según sea el caso.\n",
    "\n",
    "El código descrito arriba, solo intenta mostrar el <i>paso a paso</i> del proceso de estimación de una regresión lineal simple; pero en modo algúno sería el procedimiento conveniente. Utilizando un modulo se aligera el proceso y se reducen los errores."
   ]
  },
  {
   "cell_type": "code",
   "execution_count": 39,
   "id": "94b1f733",
   "metadata": {},
   "outputs": [],
   "source": [
    "import statsmodels.formula.api as smf\n",
    "import statsmodels.api as sm"
   ]
  },
  {
   "cell_type": "code",
   "execution_count": 40,
   "id": "726c9f58",
   "metadata": {
    "tags": [
     "hide_code"
    ]
   },
   "outputs": [],
   "source": [
    "import warnings\n",
    "warnings.filterwarnings('ignore')"
   ]
  },
  {
   "cell_type": "code",
   "execution_count": 41,
   "id": "62d40929",
   "metadata": {},
   "outputs": [],
   "source": [
    "CPc= sm.add_constant(CP)\n",
    "mod = sm.OLS(salario_inicial, CPc).fit()"
   ]
  },
  {
   "cell_type": "code",
   "execution_count": 42,
   "id": "95423275",
   "metadata": {},
   "outputs": [
    {
     "data": {
      "text/html": [
       "<table class=\"simpletable\">\n",
       "<caption>OLS Regression Results</caption>\n",
       "<tr>\n",
       "  <th>Dep. Variable:</th>            <td>y</td>        <th>  R-squared:         </th> <td>   0.718</td>\n",
       "</tr>\n",
       "<tr>\n",
       "  <th>Model:</th>                   <td>OLS</td>       <th>  Adj. R-squared:    </th> <td>   0.697</td>\n",
       "</tr>\n",
       "<tr>\n",
       "  <th>Method:</th>             <td>Least Squares</td>  <th>  F-statistic:       </th> <td>   33.18</td>\n",
       "</tr>\n",
       "<tr>\n",
       "  <th>Date:</th>             <td>Mon, 29 May 2023</td> <th>  Prob (F-statistic):</th> <td>6.60e-05</td>\n",
       "</tr>\n",
       "<tr>\n",
       "  <th>Time:</th>                 <td>08:04:56</td>     <th>  Log-Likelihood:    </th> <td> -24.451</td>\n",
       "</tr>\n",
       "<tr>\n",
       "  <th>No. Observations:</th>      <td>    15</td>      <th>  AIC:               </th> <td>   52.90</td>\n",
       "</tr>\n",
       "<tr>\n",
       "  <th>Df Residuals:</th>          <td>    13</td>      <th>  BIC:               </th> <td>   54.32</td>\n",
       "</tr>\n",
       "<tr>\n",
       "  <th>Df Model:</th>              <td>     1</td>      <th>                     </th>     <td> </td>   \n",
       "</tr>\n",
       "<tr>\n",
       "  <th>Covariance Type:</th>      <td>nonrobust</td>    <th>                     </th>     <td> </td>   \n",
       "</tr>\n",
       "</table>\n",
       "<table class=\"simpletable\">\n",
       "<tr>\n",
       "    <td></td>       <th>coef</th>     <th>std err</th>      <th>t</th>      <th>P>|t|</th>  <th>[0.025</th>    <th>0.975]</th>  \n",
       "</tr>\n",
       "<tr>\n",
       "  <th>const</th> <td>   -6.6269</td> <td>    4.298</td> <td>   -1.542</td> <td> 0.147</td> <td>  -15.913</td> <td>    2.659</td>\n",
       "</tr>\n",
       "<tr>\n",
       "  <th>x1</th>    <td>    8.1185</td> <td>    1.409</td> <td>    5.760</td> <td> 0.000</td> <td>    5.074</td> <td>   11.163</td>\n",
       "</tr>\n",
       "</table>\n",
       "<table class=\"simpletable\">\n",
       "<tr>\n",
       "  <th>Omnibus:</th>       <td> 0.002</td> <th>  Durbin-Watson:     </th> <td>   2.405</td>\n",
       "</tr>\n",
       "<tr>\n",
       "  <th>Prob(Omnibus):</th> <td> 0.999</td> <th>  Jarque-Bera (JB):  </th> <td>   0.162</td>\n",
       "</tr>\n",
       "<tr>\n",
       "  <th>Skew:</th>          <td> 0.013</td> <th>  Prob(JB):          </th> <td>   0.922</td>\n",
       "</tr>\n",
       "<tr>\n",
       "  <th>Kurtosis:</th>      <td> 2.492</td> <th>  Cond. No.          </th> <td>    42.4</td>\n",
       "</tr>\n",
       "</table><br/><br/>Notes:<br/>[1] Standard Errors assume that the covariance matrix of the errors is correctly specified."
      ],
      "text/latex": [
       "\\begin{center}\n",
       "\\begin{tabular}{lclc}\n",
       "\\toprule\n",
       "\\textbf{Dep. Variable:}    &        y         & \\textbf{  R-squared:         } &     0.718   \\\\\n",
       "\\textbf{Model:}            &       OLS        & \\textbf{  Adj. R-squared:    } &     0.697   \\\\\n",
       "\\textbf{Method:}           &  Least Squares   & \\textbf{  F-statistic:       } &     33.18   \\\\\n",
       "\\textbf{Date:}             & Mon, 29 May 2023 & \\textbf{  Prob (F-statistic):} &  6.60e-05   \\\\\n",
       "\\textbf{Time:}             &     08:04:56     & \\textbf{  Log-Likelihood:    } &   -24.451   \\\\\n",
       "\\textbf{No. Observations:} &          15      & \\textbf{  AIC:               } &     52.90   \\\\\n",
       "\\textbf{Df Residuals:}     &          13      & \\textbf{  BIC:               } &     54.32   \\\\\n",
       "\\textbf{Df Model:}         &           1      & \\textbf{                     } &             \\\\\n",
       "\\textbf{Covariance Type:}  &    nonrobust     & \\textbf{                     } &             \\\\\n",
       "\\bottomrule\n",
       "\\end{tabular}\n",
       "\\begin{tabular}{lcccccc}\n",
       "               & \\textbf{coef} & \\textbf{std err} & \\textbf{t} & \\textbf{P$> |$t$|$} & \\textbf{[0.025} & \\textbf{0.975]}  \\\\\n",
       "\\midrule\n",
       "\\textbf{const} &      -6.6269  &        4.298     &    -1.542  &         0.147        &      -15.913    &        2.659     \\\\\n",
       "\\textbf{x1}    &       8.1185  &        1.409     &     5.760  &         0.000        &        5.074    &       11.163     \\\\\n",
       "\\bottomrule\n",
       "\\end{tabular}\n",
       "\\begin{tabular}{lclc}\n",
       "\\textbf{Omnibus:}       &  0.002 & \\textbf{  Durbin-Watson:     } &    2.405  \\\\\n",
       "\\textbf{Prob(Omnibus):} &  0.999 & \\textbf{  Jarque-Bera (JB):  } &    0.162  \\\\\n",
       "\\textbf{Skew:}          &  0.013 & \\textbf{  Prob(JB):          } &    0.922  \\\\\n",
       "\\textbf{Kurtosis:}      &  2.492 & \\textbf{  Cond. No.          } &     42.4  \\\\\n",
       "\\bottomrule\n",
       "\\end{tabular}\n",
       "%\\caption{OLS Regression Results}\n",
       "\\end{center}\n",
       "\n",
       "Notes: \\newline\n",
       " [1] Standard Errors assume that the covariance matrix of the errors is correctly specified."
      ],
      "text/plain": [
       "<class 'statsmodels.iolib.summary.Summary'>\n",
       "\"\"\"\n",
       "                            OLS Regression Results                            \n",
       "==============================================================================\n",
       "Dep. Variable:                      y   R-squared:                       0.718\n",
       "Model:                            OLS   Adj. R-squared:                  0.697\n",
       "Method:                 Least Squares   F-statistic:                     33.18\n",
       "Date:                Mon, 29 May 2023   Prob (F-statistic):           6.60e-05\n",
       "Time:                        08:04:56   Log-Likelihood:                -24.451\n",
       "No. Observations:                  15   AIC:                             52.90\n",
       "Df Residuals:                      13   BIC:                             54.32\n",
       "Df Model:                           1                                         \n",
       "Covariance Type:            nonrobust                                         \n",
       "==============================================================================\n",
       "                 coef    std err          t      P>|t|      [0.025      0.975]\n",
       "------------------------------------------------------------------------------\n",
       "const         -6.6269      4.298     -1.542      0.147     -15.913       2.659\n",
       "x1             8.1185      1.409      5.760      0.000       5.074      11.163\n",
       "==============================================================================\n",
       "Omnibus:                        0.002   Durbin-Watson:                   2.405\n",
       "Prob(Omnibus):                  0.999   Jarque-Bera (JB):                0.162\n",
       "Skew:                           0.013   Prob(JB):                        0.922\n",
       "Kurtosis:                       2.492   Cond. No.                         42.4\n",
       "==============================================================================\n",
       "\n",
       "Notes:\n",
       "[1] Standard Errors assume that the covariance matrix of the errors is correctly specified.\n",
       "\"\"\""
      ]
     },
     "execution_count": 42,
     "metadata": {},
     "output_type": "execute_result"
    }
   ],
   "source": [
    "mod.summary()"
   ]
  },
  {
   "cell_type": "markdown",
   "id": "1fea3130",
   "metadata": {},
   "source": [
    "Cómo se vé, utilizando el modulo se abrevian muchos pasos.  "
   ]
  }
 ],
 "metadata": {
  "celltoolbar": "Tags",
  "kernelspec": {
   "display_name": "Python 3 (ipykernel)",
   "language": "python",
   "name": "python3"
  },
  "language_info": {
   "codemirror_mode": {
    "name": "ipython",
    "version": 3
   },
   "file_extension": ".py",
   "mimetype": "text/x-python",
   "name": "python",
   "nbconvert_exporter": "python",
   "pygments_lexer": "ipython3",
   "version": "3.9.2"
  }
 },
 "nbformat": 4,
 "nbformat_minor": 5
}