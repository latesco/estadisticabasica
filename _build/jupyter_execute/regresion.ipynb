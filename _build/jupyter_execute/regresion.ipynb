{
 "cells": [
  {
   "cell_type": "markdown",
   "id": "8a368ad8",
   "metadata": {},
   "source": [
    "# Modelo de Regresión Lineal Simple\n",
    "#### George Canavos"
   ]
  },
  {
   "cell_type": "code",
   "execution_count": 1,
   "id": "2c57c09b",
   "metadata": {},
   "outputs": [
    {
     "ename": "ModuleNotFoundError",
     "evalue": "No module named 'jupyterthemes'",
     "output_type": "error",
     "traceback": [
      "\u001b[0;31m---------------------------------------------------------------------------\u001b[0m",
      "\u001b[0;31mModuleNotFoundError\u001b[0m                       Traceback (most recent call last)",
      "Cell \u001b[0;32mIn[1], line 6\u001b[0m\n\u001b[1;32m      4\u001b[0m \u001b[38;5;28;01mfrom\u001b[39;00m \u001b[38;5;21;01mmatplotlib\u001b[39;00m \u001b[38;5;28;01mimport\u001b[39;00m collections \u001b[38;5;28;01mas\u001b[39;00m mc\n\u001b[1;32m      5\u001b[0m \u001b[38;5;28;01mimport\u001b[39;00m \u001b[38;5;21;01mseaborn\u001b[39;00m \u001b[38;5;28;01mas\u001b[39;00m \u001b[38;5;21;01msns\u001b[39;00m\n\u001b[0;32m----> 6\u001b[0m \u001b[38;5;28;01mfrom\u001b[39;00m \u001b[38;5;21;01mjupyterthemes\u001b[39;00m \u001b[38;5;28;01mimport\u001b[39;00m jtplot\n",
      "\u001b[0;31mModuleNotFoundError\u001b[0m: No module named 'jupyterthemes'"
     ]
    }
   ],
   "source": [
    "import math as m\n",
    "import statistics as stats\n",
    "import matplotlib.pyplot as plt\n",
    "from matplotlib import collections as mc\n",
    "import seaborn as sns\n",
    "from jupyterthemes import jtplot"
   ]
  },
  {
   "cell_type": "code",
   "execution_count": 2,
   "id": "748244a4",
   "metadata": {},
   "outputs": [],
   "source": [
    "%matplotlib inline"
   ]
  },
  {
   "cell_type": "code",
   "execution_count": 12,
   "id": "8fd3862a",
   "metadata": {},
   "outputs": [],
   "source": [
    "jtplot.style(theme='monokai', context='notebook', ticks=True, grid=False)"
   ]
  },
  {
   "cell_type": "code",
   "execution_count": 9,
   "id": "e3d68b25",
   "metadata": {},
   "outputs": [],
   "source": [
    "plt.style.use('dark_background')\n",
    "plt.rcParams['text.usetex'] = True\n",
    "plt.rcParams['figure.figsize'] = (10, 6)"
   ]
  },
  {
   "cell_type": "markdown",
   "id": "268a80bb",
   "metadata": {},
   "source": [
    "### Datos de calificaciones promedio (CP) y salario inicial (miles de dólares)"
   ]
  },
  {
   "cell_type": "code",
   "execution_count": 10,
   "id": "728430b2",
   "metadata": {},
   "outputs": [],
   "source": [
    "CP = [2.95, 3.20, 3.40, 3.60, 3.20, 2.85, 3.10, 2.85,\n",
    "                3.05, 2.70, 2.75, 3.10, 3.15, 2.95, 2.75]\n",
    "\n",
    "salario_inicial = [18.5, 20.0, 21.1, 22.4, 21.2, 15.0, 18.0,\n",
    "                            18.8, 15.7, 14.4, 15.5, 17.2, 19.0,17.2, 16.8]"
   ]
  },
  {
   "cell_type": "code",
   "execution_count": 13,
   "id": "ea262293",
   "metadata": {},
   "outputs": [
    {
     "data": {
      "text/plain": [
       "<matplotlib.collections.PathCollection at 0x7f0c7df7cc70>"
      ]
     },
     "execution_count": 13,
     "metadata": {},
     "output_type": "execute_result"
    },
    {
     "data": {
      "image/png": "[encoded data removed]",
      "text/plain": [
       "<Figure size 576x504 with 1 Axes>"
      ]
     },
     "metadata": {},
     "output_type": "display_data"
    }
   ],
   "source": [
    "fig, ax = plt.subplots()\n",
    "ax.scatter(CP, salario_inicial, color='orange', s=60,\n",
    "          edgecolors='white')\n",
    "# sns.scatterplot(x=CP, y=salario_inicial, s=60, ax=ax,\n",
    "#               legend=False, alpha=0.8)"
   ]
  },
  {
   "cell_type": "markdown",
   "id": "be0ec1ca",
   "metadata": {},
   "source": [
    "### Estimación por Mínimos Cuadrados para el Modelo Lineal Simple"
   ]
  },
  {
   "cell_type": "markdown",
   "id": "69e15771",
   "metadata": {},
   "source": [
    "Se supone un modelo de forma:\n",
    "    $$Y_i=\\beta_0 + \\beta_1x_i+ \\epsilon_i;\\;\\;i=1,2, ...,n\\;\\;\\;\\;\\;(1)$$"
   ]
  },
  {
   "cell_type": "markdown",
   "id": "8fd47960",
   "metadata": {},
   "source": [
    "Cada observación $Y_i$ es una variable aleatoria que es la suma de dos componentes; el término no aleatorio $\\beta_0+\\beta_1x_i$, y la componente aleatoria $\\epsilon_i$. Si $e_i$ tuviera valor cero, la observación $Y_i$ se encontraría precisamente sobre la línea de regresión $\\beta_0+\\beta_1x_i$. Por lo tanto, $e_i$ es la distancia vertical de la observación a la línea de regresión. Dado que se supone:"
   ]
  },
  {
   "cell_type": "markdown",
   "id": "443c647c",
   "metadata": {},
   "source": [
    "$$E(\\epsilon_i)=0;\\;Var(\\epsilon_i)=\\sigma^2;\\;\\;i=1, 2, ...,n.$$\n",
    "     y\n",
    "$$Cov(\\epsilon_i, \\epsilon_i)=0\\;\\;\\;\\;\\;i\\neq j$$\n",
    "    y\n",
    "$$Var(Y_i)=Var(\\beta_0+\\beta_1x_1+\\epsilon_i)=Var(\\epsilon_i)=\\sigma^2.$$\n"
   ]
  },
  {
   "cell_type": "markdown",
   "id": "95dbc5ed",
   "metadata": {},
   "source": [
    "El último resultado surge del hecho de que la varianza de una variable aleatoria no varía con respecto a la localización; en este caso, el <i>corrimiento</i> en localización viene dado por el término no aleatorio $\\beta_0+\\beta_1x_i$. Por lo tanto, en términos reales, lo que se supone es que para cada calificación promedio $x$ existe una distribución de probabilidad para los salarios iniciales cuya media es una función líneal de $x$ y cuya varianza es la mísma para toda $x$."
   ]
  },
  {
   "cell_type": "markdown",
   "id": "c7f4cad0",
   "metadata": {},
   "source": [
    "Para obtener los estimadores de mínimos cuadrados de $\\beta_0$ t $\\beta_1$, se generalizará un conjunto de datos consistente en $n$ pares: $(y_1, x_1), (y_2, x_2),..., (y_n, x_n)$, donde los valores de $y$ son las observaciones de la variable aleatoria respuesta. El método de mínimos cuadrados considera la desviación de la observación $Y_i$ de su valor medio y determina los valores de $\\beta_0$ y $\\beta_1$ que minimizan la suma de los cuadrados de estas desviaciones. La <i>i-esima</i> desviación o error es:\n",
    "$$\\epsilon_i=Y_i-(\\beta_0+\\beta_1x_i)$$"
   ]
  },
  {
   "cell_type": "markdown",
   "id": "131bfab3",
   "metadata": {},
   "source": [
    "Y la suma de los cuadrados de los errores es:\n",
    "$$\\sum_{i=1}^{{n}}e_i^2=\\sum_{i=1}^{{n}}(Y_i+\\beta_0+\\beta_1x_i)^2\\;\\;\\;\\;\\;\\;\\;(2)$$"
   ]
  },
  {
   "cell_type": "markdown",
   "id": "6ee8534f",
   "metadata": {},
   "source": [
    "Los estimadores de mínímos cuadrados de $\\beta_0$ y $\\beta_1$, se obtinen mediante la diferenciación de $(2)$.\n",
    "\n",
    "$$\\frac{\\partial\\sum \\epsilon_i^2}{{\\partial\\beta_0}}=-2\\sum(Y_i-b_0-b_1x_i)=0$$\n",
    "\n",
    "$$\\frac{\\partial\\sum \\epsilon_i^2}{{\\partial\\beta_1}}=-2\\sum x_i(Y_i-b_0-b_1x_i)=0$$"
   ]
  },
  {
   "cell_type": "markdown",
   "id": "ca302bae",
   "metadata": {},
   "source": [
    "Siendo $b_0$ y $b_1$ los estimadores de mínimos cuadrados de $\\beta_0$  $\\beta_1$, respectivamente. Al simplificar y distribuir las sumas en las expresiones de arriba:\n",
    "\n",
    "$$\\sum_{i=1}^{{n}}Y_i=nb_0+b_1\\sum_{i=1}^{{n}}x_i;\\;\\;\\;\\;\\;\\;(3)$$\n",
    "\n",
    "y\n",
    "\n",
    "$$\\sum_{i=1}^{{n}}x_iY_i=b_0\\sum_{i=1}^{{n}}x_i+b_1\\sum_{i=1}^{{n}}x_i^2;\\;\\;\\;\\;\\;\\;(4)$$"
   ]
  },
  {
   "cell_type": "markdown",
   "id": "79baf39b",
   "metadata": {},
   "source": [
    "Las expresiones arriba expuestas son las que se conocen como las <i>ecuaciones normales</i>; al dividir $(3)$ por $n$ (dadas las realizaciones $y_1, y_2, ..., y_n$) se obtiene:\n",
    "$$\\frac{\\sum y_i}{{n}}=b_0+b_1\\frac{\\sum x_i}{{n}}$$\n",
    "\n",
    "Entonces el estimador de mínimos cuadrados de $\\beta_0$ es:\n",
    "$$b_0=\\frac{\\sum_{i=1}^{{n}} y_i}{{n}}-b_1\\frac{\\sum_{i=1}^{{n}}x_i}{{n}}=\\bar{y} - b_1\\bar{x}\\;\\;\\;\\;\\;\\;\\;(5)$$"
   ]
  },
  {
   "cell_type": "markdown",
   "id": "19aa9016",
   "metadata": {},
   "source": [
    "Al sustituir $(5)$ en $(4)$, se obtiene:\n",
    "\n",
    "$$\\sum x_iy_i=\\left (\\begin{array}{c}\\frac{\\sum y_i}{{n}} - b_1\\frac{\\sum x_i}{{n}}\\end{array} \\right ) \\sum x_i + b_1\\sum x_i^2$$"
   ]
  },
  {
   "cell_type": "markdown",
   "id": "f1509693",
   "metadata": {},
   "source": [
    "Después de resolver para $b_1$ esa expresión se reduce a:\n",
    "\n",
    "$$b_1=\\frac{\\sum_{i=1}^{{n}}x_i y_i - \\frac{\\left (\\begin{array}{c}\\sum_{i=1}^n x_i\\end{array} \\right ) \\left ( \\begin{array}{c}\\sum_{i=1}^n y_i \\end{array} \\right )}{{n}}}{{\\sum_{i=1}^n x_i^2- \\frac{(\\sum_{i=1}^n x_i)^2}{{n}}}}=\\frac{\\sum_{i=1}^n (x_i - \\bar{x})(y_i-\\bar{y})}{{\\sum_{i=1}^n (x_i- \\bar{x})^2}}\\;\\;\\;\\;(6)$$"
   ]
  },
  {
   "cell_type": "markdown",
   "id": "a89cb34b",
   "metadata": {},
   "source": [
    "Los valores dados para $(5)$ y $(6)$ ($b_1$ y $b_0$) son los que minimizan la suma de los cudrados de los errores.\n",
    "\n",
    "La recta de regresión estimada para el modelo $(1)$ es:\n",
    "$$\\hat{Y_i}=b_0+b_1x_i$$"
   ]
  },
  {
   "cell_type": "markdown",
   "id": "51e53b8b",
   "metadata": {},
   "source": [
    "Donde si se sustituye $(5)$ por $b_0$ se tiene:\n",
    "$$\\hat{Y_i} = \\bar(Y) - b_1\\hat{x} + b_1 x_i \\\\\n",
    "= \\bar{Y} + b_1(x_i- \\bar{x})$$"
   ]
  },
  {
   "cell_type": "markdown",
   "id": "73ebb74c",
   "metadata": {},
   "source": [
    "Basados en la expresión $(2)$, la diferencia entre la realización $y_i$ y el valor estimado $\\hat{y_i}$ es un estimador del error correspondiente; el cual se conoce como el <i>i-ésimo</i> residual y se denota por:\n",
    "$$\\epsilon_i=y_i - \\hat{y_i}$$"
   ]
  },
  {
   "cell_type": "markdown",
   "id": "ab561a84",
   "metadata": {},
   "source": [
    "Los residuos $\\epsilon_1, \\epsilon_2, ..., \\epsilon_n$ son importantes debido a que proporcionan información sobre lo que puede faltar en el modelo."
   ]
  },
  {
   "cell_type": "code",
   "execution_count": 14,
   "id": "9ee40059",
   "metadata": {},
   "outputs": [],
   "source": [
    "datos = {'x': CP,\n",
    "         'y':salario_inicial,\n",
    "        'xy':[x*y for x, y in zip(CP, salario_inicial)],\n",
    "        'x2':[x**2 for x in CP],\n",
    "        'y2':[y**2 for y in salario_inicial]}"
   ]
  },
  {
   "cell_type": "code",
   "execution_count": 15,
   "id": "89f88bb1",
   "metadata": {},
   "outputs": [
    {
     "name": "stdout",
     "output_type": "stream",
     "text": [
      "x           y           xy          x2          y2         \n",
      "---------------------------------------------------\n",
      "2.95       18.5       54.58      8.7        342.25    \n",
      "3.2        20.0       64.0       10.24      400.0     \n",
      "3.4        21.1       71.74      11.56      445.21    \n",
      "3.6        22.4       80.64      12.96      501.76    \n",
      "3.2        21.2       67.84      10.24      449.44    \n",
      "2.85       15.0       42.75      8.12       225.0     \n",
      "3.1        18.0       55.8       9.61       324.0     \n",
      "2.85       18.8       53.58      8.12       353.44    \n",
      "3.05       15.7       47.88      9.3        246.49    \n",
      "2.7        14.4       38.88      7.29       207.36    \n",
      "2.75       15.5       42.62      7.56       240.25    \n",
      "3.1        17.2       53.32      9.61       295.84    \n",
      "3.15       19.0       59.85      9.92       361.0     \n",
      "2.95       17.2       50.74      8.7        295.84    \n",
      "2.75       16.8       46.2       7.56       282.24    \n"
     ]
    }
   ],
   "source": [
    "print(\"{:<11} {:<11} {:<11} {:<11} {:<11}\"\n",
    "      .format('x', 'y', 'xy', 'x2', 'y2'))\n",
    "\n",
    "print('---------------------------------------------------')\n",
    "x, y, xy, x2, y2 = datos.keys()\n",
    "for i in range(15):\n",
    "    x, y, xy, x2, y2 = datos.keys()\n",
    "    print(\"{:<10} {:<10} {:<10} {:<10} {:<10}\"\n",
    "    .format(round(datos[x][i],2), \n",
    "            round(datos[y][i],2),\n",
    "            round(datos[xy][i],2), \n",
    "            round(datos[x2][i], 2), round(datos[y2][i],2)))"
   ]
  },
  {
   "cell_type": "code",
   "execution_count": 16,
   "id": "d8c402a3",
   "metadata": {},
   "outputs": [],
   "source": [
    "sum_x = sum(datos['x'])\n",
    "sum_y = sum(datos['y'])\n",
    "sum_xy = sum(datos['xy'])\n",
    "sum_x2 = sum(datos['x2'])\n",
    "sum_y2 = sum(datos['y2'])"
   ]
  },
  {
   "cell_type": "code",
   "execution_count": 17,
   "id": "c076dbbc",
   "metadata": {},
   "outputs": [
    {
     "data": {
      "text/plain": [
       "8.118510158013954"
      ]
     },
     "execution_count": 17,
     "metadata": {},
     "output_type": "execute_result"
    }
   ],
   "source": [
    "b1 = (sum_xy - (sum_x)*(sum_y) / 15) / (sum_x2 - sum_x**2/15)\n",
    "b1"
   ]
  },
  {
   "cell_type": "code",
   "execution_count": 18,
   "id": "999ecac7",
   "metadata": {},
   "outputs": [
    {
     "data": {
      "text/plain": [
       "-6.626937547029094"
      ]
     },
     "execution_count": 18,
     "metadata": {},
     "output_type": "execute_result"
    }
   ],
   "source": [
    "b0 = sum_y / 15 - b1 * sum_x / 15\n",
    "b0"
   ]
  },
  {
   "cell_type": "markdown",
   "id": "a0743576",
   "metadata": {},
   "source": [
    "Es decir el cálculo es, simplemente:\n",
    "\n",
    "$$b_1 = \\frac{830.425 - \\frac{(45.6)(270.8)}{{15}}}{{139.51 - \\frac{(45.6)^2}{{15}}}}=8.12$$\n",
    "\n",
    "y\n",
    "\n",
    "$$b_0= \\frac{270.8}{{15}} - (8.12) \\frac{45.6}{{15}} = -6.63$$"
   ]
  },
  {
   "cell_type": "markdown",
   "id": "9f25f3cc",
   "metadata": {},
   "source": [
    "Sim embargo, el paquete <i>statistics</i> ofrece medios más cómodos de obtener ese resultado."
   ]
  },
  {
   "cell_type": "code",
   "execution_count": 19,
   "id": "b4b31c03",
   "metadata": {},
   "outputs": [],
   "source": [
    "rl = stats.linear_regression(CP, salario_inicial)"
   ]
  },
  {
   "cell_type": "code",
   "execution_count": 20,
   "id": "a518a7a4",
   "metadata": {},
   "outputs": [
    {
     "data": {
      "text/plain": [
       "8.118510158013544"
      ]
     },
     "execution_count": 20,
     "metadata": {},
     "output_type": "execute_result"
    }
   ],
   "source": [
    "rl.slope"
   ]
  },
  {
   "cell_type": "code",
   "execution_count": 21,
   "id": "cc6ea02a",
   "metadata": {},
   "outputs": [
    {
     "data": {
      "text/plain": [
       "-6.62693754702784"
      ]
     },
     "execution_count": 21,
     "metadata": {},
     "output_type": "execute_result"
    }
   ],
   "source": [
    "rl.intercept"
   ]
  },
  {
   "cell_type": "markdown",
   "id": "57d8f91a",
   "metadata": {},
   "source": [
    "### Salario Estimado"
   ]
  },
  {
   "cell_type": "markdown",
   "id": "d4b6226c",
   "metadata": {},
   "source": [
    "Los valores estimados para el <i>salario inicial</i> serán entonces el resultado de la suma algebraica del valor del intercepto $b_0$ más el producto del coeficiente de regresión $b_1$ por cada uno de los valores de <i>CP</i>; esta operación producirá una lista de valores estimados de la misma longitud a la lista de valores iniciales."
   ]
  },
  {
   "cell_type": "code",
   "execution_count": 22,
   "id": "d75be981",
   "metadata": {},
   "outputs": [],
   "source": [
    "salario_estimado = [rl.intercept + rl.slope * i for i in CP]\n",
    "\n",
    "salario_estimado = [round(est, 2) for est in salario_estimado]"
   ]
  },
  {
   "cell_type": "markdown",
   "id": "ea5b6aae",
   "metadata": {},
   "source": [
    "Los residuos se obtienen a partir de la diferencia entre los valores reales y los estimados."
   ]
  },
  {
   "cell_type": "code",
   "execution_count": 23,
   "id": "effd1fa6",
   "metadata": {},
   "outputs": [],
   "source": [
    "residuos = [round(s1 - s2, 2) for s1, s2 in \n",
    "            zip(salario_inicial, salario_estimado)]"
   ]
  },
  {
   "cell_type": "code",
   "execution_count": 24,
   "id": "72d00a15",
   "metadata": {},
   "outputs": [],
   "source": [
    "cuadrado_residuos = [res**2 for res in residuos]"
   ]
  },
  {
   "cell_type": "code",
   "execution_count": 25,
   "id": "4f8f145f",
   "metadata": {},
   "outputs": [],
   "source": [
    "dest ={'y_est': salario_estimado,\n",
    "      'residuos': [i - j for i, j in zip(salario_inicial, salario_estimado)],\n",
    "      'residuos2':[(i - j)**2 for i, j in zip(salario_inicial, salario_estimado)]}"
   ]
  },
  {
   "cell_type": "code",
   "execution_count": 26,
   "id": "aed49f07",
   "metadata": {},
   "outputs": [
    {
     "data": {
      "text/plain": [
       "'y_est'"
      ]
     },
     "execution_count": 26,
     "metadata": {},
     "output_type": "execute_result"
    }
   ],
   "source": [
    "datos2 = dict(**datos, **dest)\n",
    "#datos2.keys()\n",
    "x, y, xy, x2, y2, yest, resid, resid2  = datos2.keys()\n",
    "yest"
   ]
  },
  {
   "cell_type": "code",
   "execution_count": 32,
   "id": "9531fd9b",
   "metadata": {},
   "outputs": [
    {
     "name": "stdout",
     "output_type": "stream",
     "text": [
      "x           y           xy          x2          y2          yest        Residuo     ResidCuad  \n",
      "----------------------------------------------------------------------------------------------------\n",
      "2.95       18.5       54.58      8.7        342.25     17.32            1.18             1.39            \n",
      "3.2        20.0       64.0       10.24      400.0      19.35            0.65             0.42            \n",
      "3.4        21.1       71.74      11.56      445.21     20.98            0.12             0.01            \n",
      "3.6        22.4       80.64      12.96      501.76     22.6             -0.2             0.04            \n",
      "3.2        21.2       67.84      10.24      449.44     19.35            1.85             3.42            \n",
      "2.85       15.0       42.75      8.12       225.0      16.51            -1.51            2.28            \n",
      "3.1        18.0       55.8       9.61       324.0      18.54            -0.54            0.29            \n",
      "2.85       18.8       53.58      8.12       353.44     16.51            2.29             5.24            \n",
      "3.05       15.7       47.88      9.3        246.49     18.13            -2.43            5.9             \n",
      "2.7        14.4       38.88      7.29       207.36     15.29            -0.89            0.79            \n",
      "2.75       15.5       42.62      7.56       240.25     15.7             -0.2             0.04            \n",
      "3.1        17.2       53.32      9.61       295.84     18.54            -1.34            1.8             \n",
      "3.15       19.0       59.85      9.92       361.0      18.95            0.05             0.0             \n",
      "2.95       17.2       50.74      8.7        295.84     17.32            -0.12            0.01            \n",
      "2.75       16.8       46.2       7.56       282.24     15.7             1.1              1.21            \n",
      "----------------------------------------------------------------------------------------------------\n",
      "45.6       270.8      830.43     139.51     4970.12    270.79           0.01             22.87           \n"
     ]
    }
   ],
   "source": [
    "print(\"{:<11} {:<11} {:<11} {:<11} {:<11} {:<11} {:<11} {:<11}\"\n",
    "      .format('x', 'y', 'xy', 'x2', 'y2', 'yest', 'Residuo', 'ResidCuad'))\n",
    "\n",
    "print('--------------------' * 5) \n",
    "x, y, xy, x2, y2, yest, resid, resid2  = datos2.keys()\n",
    "for i in range(15):\n",
    "    #x, y, xy, x2, y2, yest, resid, resid2 = datos2.keys()\n",
    "    print(\"{:<10} {:<10} {:<10} {:<10} {:<10} {:<16} {:<16} {:<16}\"\n",
    "    .format(round(datos2[x][i],2), \n",
    "            round(datos2[y][i],2),\n",
    "            round(datos2[xy][i],2), \n",
    "            round(datos2[x2][i], 2), \n",
    "            round(datos2[y2][i],2),\n",
    "            round(datos2[yest][i],2),\n",
    "            round(datos2[resid][i],2),\n",
    "            round(datos2[resid2][i],2),\n",
    "           ))\n",
    "print('--------------------' * 5)\n",
    "print(\"{:<10} {:<10} {:<10} {:<10} {:<10} {:<16} {:<16} {:<16}\"\n",
    "    .format(round(sum_x,2), \n",
    "            round(sum_y, 2),\n",
    "            round(sum_xy,2), \n",
    "            round(sum_x2, 2), \n",
    "            round(sum_y2,2),\n",
    "            round(sum(dest['y_est']),2),\n",
    "            round(sum(dest['residuos']),2),\n",
    "            round(sum(dest['residuos2']),2),\n",
    "           ))\n"
   ]
  },
  {
   "cell_type": "markdown",
   "id": "0801a93b",
   "metadata": {},
   "source": [
    "La ecuación estimada de regresión es:\n",
    "$$\\widehat{salario\\_inicial} = -6.63 + 8.12 \\cdot CP$$\n",
    "\n",
    "O ḿás bien para usar la notación comunmente usada:\n",
    "\n",
    "$$\\hat{y} = -6.63 + 8.12 \\cdot x_i$$\n",
    "\n",
    "Siendo $y=salario\\_inicial$ la variable dependiente y $x=CP$ variable dependiente.\n",
    "\n",
    "Al itentar interpretar esta ecuación se tiene que los valores de $\\hat{y_i}$ son los estimadores para las medias de las distribuciones de probabilidad de los salarios iniciales correspondientes a las calificaciones promedio $x_i$. En este caso, como en muchos otros, intentar predecir la respuesta más alla del intervalo de valores de $x$ ($ 2.70, 3.60 $) puede producir resultados inesperados; por ejemplo, un valor de $x=0.5$ acarrearia una predicción $\\hat{y}= -2.57$, lo cual sería absurdo. Es decir, que para intervalos más amplios de la variable de predicción, las estimaciones, en un caso como este al menos, deberían considerarse con reserva.\n"
   ]
  },
  {
   "cell_type": "markdown",
   "id": "a4177500",
   "metadata": {},
   "source": [
    "Los residuos son las diferencias entre las observaciones (salarios iniciales)  y sus valores estimados; en otras palabras, cada valor residual es la distancia vertical existente entre la observación y el punto sobre la recta estimada de regresión correspondiente."
   ]
  },
  {
   "cell_type": "markdown",
   "id": "06593f00",
   "metadata": {},
   "source": [
    "La varianza ($\\sigma^2$) de la variable respuesta es igual a la varianza del error. Dado que no es conocida, se estima mediante la suma de las diferencias al cuadrado $y_i - \\hat{y_i}$, esta suma se divide por $n - 2$, siendo $n$ el numero de datos o grados de libertad, a los que se les resta 2 unidades al descontar la estimación del intercepto y el coeficiente de regresión:\n",
    "\n",
    "$$s^2= \\frac{\\sum_{i=1}^{n}(y_i - \\hat{y})^2}{{n - 2}}=\\frac{\\sum_{i=1}^{n} e_i^2}{{n-2}}$$"
   ]
  },
  {
   "cell_type": "markdown",
   "id": "34faa8de",
   "metadata": {},
   "source": [
    "El estimador $s^2$ es conocido como <i>varianza residual</i> o <i>CME</i>, y la raíz cuadrada positiva $s$ se conoce como la <i>desviacion estándar residual</i>. Siendo la <i>varianza residual</i> una medida absoluta de qué tan bien se ajusta la recta estimada de regresión a las medias de las observaciones de la variable respuesta; por lo que a menor valor $s^2$ mejor será el ajuste al modelo. Si la forma del modelo de regresión es la correcta  $s^2$ es un estimador insesgado de $\\sigma^2$."
   ]
  },
  {
   "cell_type": "code",
   "execution_count": 28,
   "id": "17467c5c",
   "metadata": {},
   "outputs": [],
   "source": [
    "eq = (r\"$\\widehat{salario\\_inicial}=-6.63+8.12CP$\")\n",
    "# eq = (r\"esto\")"
   ]
  },
  {
   "cell_type": "code",
   "execution_count": 29,
   "id": "a7523da3",
   "metadata": {},
   "outputs": [],
   "source": [
    " l0 = list(zip(CP, salario_inicial))\n",
    " l0 = sorted(l0, key=lambda x: x[0])\n",
    " l1 = list(zip(CP, salario_estimado))\n",
    " l1 = sorted(l1, key=lambda x: x[0])\n",
    "# list(zip(l0, l1))\n",
    "lines = [[e, f] for e, f in zip(l0, l1)]"
   ]
  },
  {
   "cell_type": "code",
   "execution_count": 30,
   "id": "d94df503",
   "metadata": {},
   "outputs": [
    {
     "data": {
      "image/png": "[encoded data removed]",
      "text/plain": [
       "<Figure size 576x504 with 1 Axes>"
      ]
     },
     "metadata": {},
     "output_type": "display_data"
    }
   ],
   "source": [
    "lc = mc.LineCollection(lines, colors='steelblue', linewidths=2)\n",
    "\n",
    "# plt.figure(figsize=(10, 5))\n",
    "fig, ax = plt.subplots()\n",
    "# fig.set_size_inches(10, 5) # overrridden by plt.rcParams[figure.figsize]\n",
    "ax.scatter(x=CP, y=salario_inicial, s= 60, edgecolor='r', color='orange', alpha=0.7)\n",
    "ax.plot(CP, salario_estimado, color='steelblue')\n",
    "#ax.text(3.5, 18, eq, color='C0',\n",
    "#        horizontalalignment=\"right\", verticalalignment='top', \n",
    "#        fontsize=15)\n",
    "#ax.arrow(3.4, 18.1, 3.2, 19,width=0.2)\n",
    "plt.title('Residuos como distancias verticales desde\\nla ecuación estimada de regresion')\n",
    "ax.annotate(eq, (3.3, 20), xytext=(0, -50),\n",
    "           textcoords='offset points',\n",
    "           fontsize = 15,\n",
    "           arrowprops=dict(\n",
    "           arrowstyle='fancy',\n",
    "           color='steelblue',\n",
    "           connectionstyle='arc3, rad=0.3'),)\n",
    "# plt.plot([CP[0], sal_in[0]], [CP[0], sal_est[0]], 'bo', linestyle='--')\n",
    "#ax.annotate('', xy = (cp[0], sal_in[0]),\n",
    "#            xytext = (cp[1], 30), \n",
    "#            xycoords = 'data',\n",
    "#            textcoords='offset points', color='steelblue',\n",
    "#           arrowprops={'arrowstyle':'<->'})\n",
    "# ax.plot([2.5, 14.5], [2.5, 15.5], color = 'steelblue', linestyle='--')\n",
    "ax.add_collection(lc)\n",
    "ax.autoscale()"
   ]
  },
  {
   "cell_type": "code",
   "execution_count": null,
   "id": "a3291051",
   "metadata": {},
   "outputs": [],
   "source": []
  },
  {
   "cell_type": "code",
   "execution_count": null,
   "id": "fdd47792",
   "metadata": {},
   "outputs": [],
   "source": []
  },
  {
   "cell_type": "code",
   "execution_count": null,
   "id": "ea3dd1f6",
   "metadata": {},
   "outputs": [],
   "source": [
    "\n"
   ]
  },
  {
   "cell_type": "code",
   "execution_count": null,
   "id": "3314e282",
   "metadata": {},
   "outputs": [],
   "source": [
    "\n"
   ]
  },
  {
   "cell_type": "code",
   "execution_count": null,
   "id": "4e34b397",
   "metadata": {},
   "outputs": [],
   "source": []
  },
  {
   "cell_type": "code",
   "execution_count": null,
   "id": "98fa44d4",
   "metadata": {},
   "outputs": [],
   "source": []
  },
  {
   "cell_type": "code",
   "execution_count": null,
   "id": "68c63949",
   "metadata": {},
   "outputs": [],
   "source": []
  }
 ],
 "metadata": {
  "celltoolbar": "Raw Cell Format",
  "kernelspec": {
   "display_name": "Python 3 (ipykernel)",
   "language": "python",
   "name": "python3"
  },
  "language_info": {
   "codemirror_mode": {
    "name": "ipython",
    "version": 3
   },
   "file_extension": ".py",
   "mimetype": "text/x-python",
   "name": "python",
   "nbconvert_exporter": "python",
   "pygments_lexer": "ipython3",
   "version": "3.9.2"
  }
 },
 "nbformat": 4,
 "nbformat_minor": 5
}